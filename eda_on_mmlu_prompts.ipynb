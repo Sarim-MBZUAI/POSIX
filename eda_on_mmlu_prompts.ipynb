{
 "cells": [
  {
   "cell_type": "code",
   "execution_count": 19,
   "metadata": {},
   "outputs": [
    {
     "name": "stderr",
     "output_type": "stream",
     "text": [
      "[nltk_data] Downloading package punkt to\n",
      "[nltk_data]     /home/hrenduchinta/nltk_data...\n",
      "[nltk_data]   Package punkt is already up-to-date!\n"
     ]
    },
    {
     "data": {
      "text/plain": [
       "True"
      ]
     },
     "execution_count": 19,
     "metadata": {},
     "output_type": "execute_result"
    }
   ],
   "source": [
    "import json\n",
    "import statistics\n",
    "from datasets import load_from_disk, load_dataset\n",
    "import nltk\n",
    "from nltk.tokenize import word_tokenize\n",
    "nltk.download('punkt')"
   ]
  },
  {
   "cell_type": "code",
   "execution_count": null,
   "metadata": {},
   "outputs": [],
   "source": [
    "# def get_token_cnt(examples):\n",
    "#     l=[]\n",
    "#     for prompt in examples[\"prompt\"]:\n",
    "#         tokens=word_tokenize(prompt)\n",
    "#         l.append(len(tokens))\n",
    "#     return {\"prompt_len\": l}\n",
    "# for n_shot in [0, 1, 2, 3, 4, 5]:\n",
    "#     dataset=load_from_disk(f\"/home/hrenduchinta/sensei-fs-link/adobe-iitd/prompt-sensitivity-synonym/data/mmlu_{n_shot}_shot_unperturbed\")\n",
    "#     dataset=dataset.map(get_token_cnt, batched=True)\n",
    "#     lengths=dataset[\"prompt_len\"]\n",
    "#     print(f\"n_shot: {n_shot}\")\n",
    "#     print(f\"mean: {sum(lengths)/len(lengths)}\")\n",
    "#     print(f\"max: {max(lengths)}\")\n",
    "#     print(f\"min: {min(lengths)}\")\n",
    "#     print(f\"std: {sum([(x-sum(lengths)/len(lengths))**2 for x in lengths])/len(lengths)}\")"
   ]
  },
  {
   "cell_type": "code",
   "execution_count": 25,
   "metadata": {},
   "outputs": [
    {
     "name": "stdout",
     "output_type": "stream",
     "text": [
      "mean: 52.69270759151118\n",
      "max: 836\n",
      "min: 1\n",
      "std: 73.73316044858657\n",
      "median: 22.0\n"
     ]
    }
   ],
   "source": [
    "mmlu=load_dataset(\"cais/mmlu\", \"all\")\n",
    "mmlu_test=mmlu[\"test\"]\n",
    "all_questions=mmlu_test[\"question\"]\n",
    "lengths=[len(word_tokenize(question)) for question in all_questions]\n",
    "print(f\"mean: {statistics.mean(lengths)}\")\n",
    "print(f\"max: {max(lengths)}\")\n",
    "print(f\"min: {min(lengths)}\")\n",
    "print(f\"std: {statistics.stdev(lengths)}\")\n",
    "print(f\"median: {statistics.median(lengths)}\")"
   ]
  },
  {
   "cell_type": "code",
   "execution_count": 28,
   "metadata": {},
   "outputs": [
    {
     "name": "stdout",
     "output_type": "stream",
     "text": [
      "0.06409343398376299% of questions have length less than or equal to 1 words\n",
      "0.19940179461615154% of questions have length less than or equal to 2 words\n",
      "1.1323173337131462% of questions have length less than or equal to 4 words\n",
      "8.346389403218915% of questions have length less than or equal to 8 words\n"
     ]
    }
   ],
   "source": [
    "for threshold in [1, 2, 4, 8]:\n",
    "    l=[length for length in lengths if length<=threshold]\n",
    "    print(f\"{len(l)/len(lengths)*100}% of questions have length less than or equal to {threshold} words\")"
   ]
  }
 ],
 "metadata": {
  "kernelspec": {
   "display_name": "Python 3",
   "language": "python",
   "name": "python3"
  },
  "language_info": {
   "codemirror_mode": {
    "name": "ipython",
    "version": 3
   },
   "file_extension": ".py",
   "mimetype": "text/x-python",
   "name": "python",
   "nbconvert_exporter": "python",
   "pygments_lexer": "ipython3",
   "version": "3.8.10"
  }
 },
 "nbformat": 4,
 "nbformat_minor": 2
}
